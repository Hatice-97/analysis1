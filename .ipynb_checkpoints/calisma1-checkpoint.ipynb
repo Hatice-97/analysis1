{
  "cells": [
    {
      "metadata": {
        "trusted": true
      },
      "cell_type": "code",
      "source": "print('birinci slayt sonunu çalış count ve import os ları')",
      "execution_count": 1,
      "outputs": [
        {
          "output_type": "stream",
          "text": "birinci slayt sonunu çalış count ve import os ları\n",
          "name": "stdout"
        }
      ]
    },
    {
      "metadata": {
        "trusted": true
      },
      "cell_type": "code",
      "source": "def ekran_goruntu():\n    print('sakarya Universitesi')\n    print(\"Bilişim Sistemleri Mühendisliği\")\n    ",
      "execution_count": 6,
      "outputs": []
    },
    {
      "metadata": {
        "trusted": true
      },
      "cell_type": "code",
      "source": "ekran_goruntu()",
      "execution_count": 7,
      "outputs": [
        {
          "output_type": "stream",
          "text": "sakarya Universitesi\nBilişim Sistemleri Mühendisliği\n",
          "name": "stdout"
        }
      ]
    },
    {
      "metadata": {
        "trusted": true
      },
      "cell_type": "code",
      "source": "ekran_goruntu()\nekran_goruntu()",
      "execution_count": 8,
      "outputs": [
        {
          "output_type": "stream",
          "text": "sakarya Universitesi\nBilişim Sistemleri Mühendisliği\nsakarya Universitesi\nBilişim Sistemleri Mühendisliği\n",
          "name": "stdout"
        }
      ]
    },
    {
      "metadata": {
        "trusted": true
      },
      "cell_type": "code",
      "source": "print('Sakarya')\nekran_goruntu()",
      "execution_count": 9,
      "outputs": [
        {
          "output_type": "stream",
          "text": "Sakarya\nsakarya Universitesi\nBilişim Sistemleri Mühendisliği\n",
          "name": "stdout"
        }
      ]
    },
    {
      "metadata": {
        "trusted": true
      },
      "cell_type": "code",
      "source": "def ekran_goruntu():\n    print('sakarya üniversitesi')\n    print('sakarya')\n    print('bilişim sistemleri mühendisliği')",
      "execution_count": 1,
      "outputs": []
    },
    {
      "metadata": {
        "trusted": true
      },
      "cell_type": "code",
      "source": "def main():\n    ekran_goruntu()\n    ekran_goruntu()",
      "execution_count": 2,
      "outputs": []
    },
    {
      "metadata": {
        "trusted": true
      },
      "cell_type": "code",
      "source": "main()",
      "execution_count": 3,
      "outputs": [
        {
          "output_type": "stream",
          "text": "sakarya üniversitesi\nsakarya\nbilişim sistemleri mühendisliği\nsakarya üniversitesi\nsakarya\nbilişim sistemleri mühendisliği\n",
          "name": "stdout"
        }
      ]
    },
    {
      "metadata": {
        "trusted": true
      },
      "cell_type": "code",
      "source": "def main():\n    ekran_goruntu()\n    ekran_goruntu()",
      "execution_count": 4,
      "outputs": []
    },
    {
      "metadata": {
        "trusted": true
      },
      "cell_type": "code",
      "source": "def ekran_goruntu():\n    print('sakarya')\n    print('bilişim sistemleri')\n    print('sakarya üniversitesi')",
      "execution_count": 5,
      "outputs": []
    },
    {
      "metadata": {
        "trusted": true
      },
      "cell_type": "code",
      "source": "main()",
      "execution_count": 6,
      "outputs": [
        {
          "output_type": "stream",
          "text": "sakarya\nbilişim sistemleri\nsakarya üniversitesi\nsakarya\nbilişim sistemleri\nsakarya üniversitesi\n",
          "name": "stdout"
        }
      ]
    },
    {
      "metadata": {
        "trusted": true
      },
      "cell_type": "code",
      "source": "def toplamaIslemi(x, y):\n    toplam = x + y\n    ekran = ' {} ve {} sayılarının toplamı: {}.'.format(x, y, toplam)\n    print(ekran)\n\ndef main():\n    toplamaIslemi(10, 20) # parametre gönderilmesi\n    toplamaIslemi(10000, 20000) # parametre gönderilmesi\n    a = int(input(\"bir sayi giriniz: \"))\n    b = int(input(\"yeni bir sayi giriniz: \"))\n    toplamaIslemi(a, b) # parametre gönderilmesi\n\nmain()",
      "execution_count": 7,
      "outputs": [
        {
          "output_type": "stream",
          "text": " 10 ve 20 sayılarının toplamı: 30.\n 10000 ve 20000 sayılarının toplamı: 30000.\nbir sayi giriniz: 34\nyeni bir sayi giriniz: 23\n 34 ve 23 sayılarının toplamı: 57.\n",
          "name": "stdout"
        }
      ]
    },
    {
      "metadata": {
        "trusted": true
      },
      "cell_type": "code",
      "source": "def toplamaislemi(x,y):\n    toplam=x+y\n    ekran='{} ve {} sayılarının toplamı: {}'.format(x,y,toplam)\n    print(ekran)",
      "execution_count": 8,
      "outputs": []
    },
    {
      "metadata": {
        "trusted": true
      },
      "cell_type": "code",
      "source": "def main():\n    toplamaislemi(10,20)",
      "execution_count": 9,
      "outputs": []
    },
    {
      "metadata": {
        "trusted": true
      },
      "cell_type": "code",
      "source": "main()",
      "execution_count": 10,
      "outputs": [
        {
          "output_type": "stream",
          "text": "10 ve 20 sayılarının toplamı: 30\n",
          "name": "stdout"
        }
      ]
    },
    {
      "metadata": {
        "trusted": true
      },
      "cell_type": "code",
      "source": "def main():\n    toplamaislemi(30,40)\n    toplamaislemi(120,300)\n    a=int(input(\"bir sayi giriniz\"))\n    b=int(input(\"ikinci sayi giriniz\"))\n    toplamaislemi(a,b)",
      "execution_count": 11,
      "outputs": []
    },
    {
      "metadata": {
        "trusted": true
      },
      "cell_type": "code",
      "source": "main()",
      "execution_count": 12,
      "outputs": [
        {
          "output_type": "stream",
          "text": "30 ve 40 sayılarının toplamı: 70\n120 ve 300 sayılarının toplamı: 420\nbir sayi giriniz20\nikinci sayi giriniz20\n20 ve 20 sayılarının toplamı: 40\n",
          "name": "stdout"
        }
      ]
    },
    {
      "metadata": {
        "trusted": true
      },
      "cell_type": "code",
      "source": "toplamaislemi(30,20)",
      "execution_count": 13,
      "outputs": [
        {
          "output_type": "stream",
          "text": "30 ve 20 sayılarının toplamı: 50\n",
          "name": "stdout"
        }
      ]
    },
    {
      "metadata": {
        "trusted": true
      },
      "cell_type": "code",
      "source": "def carpmaislemi():\n    sayi1=25\n    sayi2=2\n    carpim=sayi1*sayi2\n    print(carpim)\n    ",
      "execution_count": 14,
      "outputs": []
    },
    {
      "metadata": {
        "trusted": true
      },
      "cell_type": "code",
      "source": "carpmaislemi()",
      "execution_count": 15,
      "outputs": [
        {
          "output_type": "stream",
          "text": "50\n",
          "name": "stdout"
        }
      ]
    },
    {
      "metadata": {
        "trusted": true
      },
      "cell_type": "code",
      "source": "def carpmaisi():\n    sayi1=24\n    sayi2=2\n    carpim=sayi1*sayi2\n    print(carpim)",
      "execution_count": null,
      "outputs": []
    },
    {
      "metadata": {
        "trusted": true
      },
      "cell_type": "code",
      "source": "carpmaisi()",
      "execution_count": null,
      "outputs": []
    },
    {
      "metadata": {
        "trusted": true
      },
      "cell_type": "code",
      "source": "",
      "execution_count": null,
      "outputs": []
    },
    {
      "metadata": {
        "trusted": true
      },
      "cell_type": "code",
      "source": "",
      "execution_count": null,
      "outputs": []
    }
  ],
  "metadata": {
    "kernelspec": {
      "name": "python2",
      "display_name": "Python 2",
      "language": "python"
    },
    "language_info": {
      "mimetype": "text/x-python",
      "nbconvert_exporter": "python",
      "name": "python",
      "pygments_lexer": "ipython2",
      "version": "2.7.15",
      "file_extension": ".py",
      "codemirror_mode": {
        "version": 2,
        "name": "ipython"
      }
    }
  },
  "nbformat": 4,
  "nbformat_minor": 1
}