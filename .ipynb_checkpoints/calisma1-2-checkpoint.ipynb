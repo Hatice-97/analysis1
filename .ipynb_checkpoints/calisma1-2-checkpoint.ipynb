{
  "cells": [
    {
      "metadata": {
        "trusted": true
      },
      "cell_type": "code",
      "source": "def print_menu():       ## menu fonksiyonu\n    print (35 * \"-\" , \"MENU\" , 35 * \"-\")\n    print (\"1. sayı girişi \")\n    print (\"2. toplama \")\n    print (\"3. Çıkarma\")\n    print (\"4. Çarpma\")\n    print (\"5. Bölme\")\n    print (\"6. Programdan Çıkış\")\n    print (70 * \"-\")",
      "execution_count": 1,
      "outputs": []
    },
    {
      "metadata": {
        "trusted": true
      },
      "cell_type": "code",
      "source": "print_menu()",
      "execution_count": 2,
      "outputs": [
        {
          "output_type": "stream",
          "text": "----------------------------------- MENU -----------------------------------\n1. sayı girişi \n2. toplama \n3. Çıkarma\n4. Çarpma\n5. Bölme\n6. Programdan Çıkış\n----------------------------------------------------------------------\n",
          "name": "stdout"
        }
      ]
    },
    {
      "metadata": {
        "trusted": true
      },
      "cell_type": "code",
      "source": "def printmenu():\n    print(35*\"-\",\"menu\",35*\"-\")",
      "execution_count": 3,
      "outputs": []
    },
    {
      "metadata": {
        "trusted": true
      },
      "cell_type": "code",
      "source": "printmenu()",
      "execution_count": 4,
      "outputs": [
        {
          "output_type": "stream",
          "text": "----------------------------------- menu -----------------------------------\n",
          "name": "stdout"
        }
      ]
    },
    {
      "metadata": {
        "trusted": true
      },
      "cell_type": "code",
      "source": "",
      "execution_count": null,
      "outputs": []
    }
  ],
  "metadata": {
    "kernelspec": {
      "name": "python36",
      "display_name": "Python 3.6",
      "language": "python"
    },
    "language_info": {
      "mimetype": "text/x-python",
      "nbconvert_exporter": "python",
      "name": "python",
      "pygments_lexer": "ipython3",
      "version": "3.6.6",
      "file_extension": ".py",
      "codemirror_mode": {
        "version": 3,
        "name": "ipython"
      }
    }
  },
  "nbformat": 4,
  "nbformat_minor": 1
}